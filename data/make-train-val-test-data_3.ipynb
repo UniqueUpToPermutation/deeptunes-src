{
 "cells": [
  {
   "cell_type": "code",
   "execution_count": 1,
   "metadata": {},
   "outputs": [],
   "source": [
    "num_seqs = 0\n",
    "with open('src-all-seqs-bach-mozart.txt') as f:\n",
    "    for line in f:\n",
    "        num_seqs+=1"
   ]
  },
  {
   "cell_type": "code",
   "execution_count": 2,
   "metadata": {},
   "outputs": [
    {
     "data": {
      "text/plain": [
       "1538472"
      ]
     },
     "execution_count": 2,
     "metadata": {},
     "output_type": "execute_result"
    }
   ],
   "source": [
    "num_seqs"
   ]
  },
  {
   "cell_type": "code",
   "execution_count": 3,
   "metadata": {},
   "outputs": [],
   "source": [
    "num_train = 100000\n",
    "num_val = 1000\n",
    "num_test_full = 1000\n",
    "num_test_sane = 10"
   ]
  },
  {
   "cell_type": "code",
   "execution_count": 4,
   "metadata": {},
   "outputs": [],
   "source": [
    "import numpy as np"
   ]
  },
  {
   "cell_type": "code",
   "execution_count": 5,
   "metadata": {},
   "outputs": [],
   "source": [
    "src_seqs = np.loadtxt('src-all-seqs-bach-mozart.txt', \n",
    "                      dtype=str, comments=None, delimiter='\\n')"
   ]
  },
  {
   "cell_type": "code",
   "execution_count": 6,
   "metadata": {},
   "outputs": [],
   "source": [
    "with open('src-train.txt', 'a') as f:\n",
    "    for i in range(num_train):\n",
    "        f.write(src_seqs[i])\n",
    "        if i < num_train - 1:\n",
    "            f.write('\\n')"
   ]
  },
  {
   "cell_type": "code",
   "execution_count": 7,
   "metadata": {},
   "outputs": [],
   "source": [
    "with open('src-val.txt', 'a') as f:\n",
    "    for i in range(num_val):\n",
    "        j = i + num_train\n",
    "        f.write(src_seqs[j])\n",
    "        if i < num_val - 1:\n",
    "            f.write('\\n')"
   ]
  },
  {
   "cell_type": "code",
   "execution_count": 8,
   "metadata": {},
   "outputs": [],
   "source": [
    "with open('src-test-full.txt', 'a') as f:\n",
    "    for i in range(num_test_full):\n",
    "        j = i + num_train + num_val\n",
    "        f.write(src_seqs[j])\n",
    "        if i < num_test_full - 1:\n",
    "            f.write('\\n')"
   ]
  },
  {
   "cell_type": "code",
   "execution_count": 9,
   "metadata": {},
   "outputs": [],
   "source": [
    "with open('src-test-sane.txt', 'a') as f:\n",
    "    for i in range(num_test_sane):\n",
    "        j = i + num_train + num_val + num_test_full\n",
    "        f.write(src_seqs[j])\n",
    "        if i < num_test_sane - 1:\n",
    "            f.write('\\n')"
   ]
  },
  {
   "cell_type": "code",
   "execution_count": 10,
   "metadata": {},
   "outputs": [],
   "source": [
    "del(src_seqs)"
   ]
  },
  {
   "cell_type": "code",
   "execution_count": 11,
   "metadata": {},
   "outputs": [],
   "source": [
    "tgt_seqs = np.loadtxt('tgt-all-seqs-bach-mozart.txt', \n",
    "                      dtype=str, comments=None, delimiter='\\n')"
   ]
  },
  {
   "cell_type": "code",
   "execution_count": 12,
   "metadata": {},
   "outputs": [],
   "source": [
    "with open('tgt-train.txt', 'a') as f:\n",
    "    for i in range(num_train):\n",
    "        f.write(tgt_seqs[i])\n",
    "        if i < num_train - 1:\n",
    "            f.write('\\n')"
   ]
  },
  {
   "cell_type": "code",
   "execution_count": 13,
   "metadata": {},
   "outputs": [],
   "source": [
    "with open('tgt-val.txt', 'a') as f:\n",
    "    for i in range(num_val):\n",
    "        j = i + num_train\n",
    "        f.write(tgt_seqs[j])\n",
    "        if i < num_val - 1:\n",
    "            f.write('\\n')"
   ]
  },
  {
   "cell_type": "code",
   "execution_count": 14,
   "metadata": {},
   "outputs": [],
   "source": [
    "with open('tgt-test-full.txt', 'a') as f:\n",
    "    for i in range(num_test_full):\n",
    "        j = i + num_train + num_val\n",
    "        f.write(tgt_seqs[j])\n",
    "        if i < num_test_full - 1:\n",
    "            f.write('\\n')"
   ]
  },
  {
   "cell_type": "code",
   "execution_count": 15,
   "metadata": {},
   "outputs": [],
   "source": [
    "with open('tgt-test-sane.txt', 'a') as f:\n",
    "    for i in range(num_test_sane):\n",
    "        j = i + num_train + num_val + num_test_full\n",
    "        f.write(tgt_seqs[j])\n",
    "        if i < num_test_sane - 1:\n",
    "            f.write('\\n')"
   ]
  }
 ],
 "metadata": {
  "kernelspec": {
   "display_name": "Python 3",
   "language": "python",
   "name": "python3"
  },
  "language_info": {
   "codemirror_mode": {
    "name": "ipython",
    "version": 3
   },
   "file_extension": ".py",
   "mimetype": "text/x-python",
   "name": "python",
   "nbconvert_exporter": "python",
   "pygments_lexer": "ipython3",
   "version": "3.6.6"
  }
 },
 "nbformat": 4,
 "nbformat_minor": 2
}
